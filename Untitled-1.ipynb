{
 "cells": [
  {
   "cell_type": "markdown",
   "metadata": {},
   "source": [
    "* Object Oriented Programming"
   ]
  },
  {
   "cell_type": "code",
   "execution_count": 3,
   "metadata": {},
   "outputs": [
    {
     "name": "stdout",
     "output_type": "stream",
     "text": [
      "Miriam 25\n",
      "Tensor Girl\n"
     ]
    }
   ],
   "source": [
    "# Lists are mostly used to represent simple pieces of information\n",
    "# in this example we are defining a software engineer object using a list that holds position, name, age, level and salary. \n",
    "# a list is not the ideal data structure to represent such a complex object, this is the reason why we have classes.\n",
    "# classes represent complex objects, they contain functions that expalin the behaviour of our class. \n",
    "# basically a class is a blueprint how something should be defined\n",
    "# instance attribute only belongs to a specific object created; in this case se and not the whole class\n",
    "# class attribute is the same for every instance and can be  on the class itself\n",
    "\n",
    "se1 = [\"Software Engineer\", \"Miriam\", 25, \"Senior\", 7000]\n",
    "se2 = [\"Software Engineer\", \"Marvin\", 22, \"Junior\", 4000]\n",
    "\n",
    "# defining a class\n",
    "class SoftwareEngineer:\n",
    "    # class attribute\n",
    "    alias = \"Tensor Girl\"\n",
    "\n",
    "    def __init__(self, name, age, level, salary):\n",
    "        # instance attributes\n",
    "        self.name = name\n",
    "        self.age = age\n",
    "        self.level = level\n",
    "        self.salary = salary\n",
    "    \n",
    "\n",
    "# instance\n",
    "se1 = SoftwareEngineer(\"Miriam\", 25, \"Senior\", 7000)\n",
    "print(se1.name, se1.age)\n",
    "\n",
    "se2 = SoftwareEngineer(\"Marvin\", 22, \"Junior\", 4000)\n",
    "print (SoftwareEngineer.alias)"
   ]
  },
  {
   "cell_type": "code",
   "execution_count": null,
   "metadata": {},
   "outputs": [],
   "source": []
  }
 ],
 "metadata": {
  "kernelspec": {
   "display_name": "Python 3.10.5 64-bit",
   "language": "python",
   "name": "python3"
  },
  "language_info": {
   "codemirror_mode": {
    "name": "ipython",
    "version": 3
   },
   "file_extension": ".py",
   "mimetype": "text/x-python",
   "name": "python",
   "nbconvert_exporter": "python",
   "pygments_lexer": "ipython3",
   "version": "3.10.5"
  },
  "orig_nbformat": 4,
  "vscode": {
   "interpreter": {
    "hash": "26de051ba29f2982a8de78e945f0abaf191376122a1563185a90213a26c5da77"
   }
  }
 },
 "nbformat": 4,
 "nbformat_minor": 2
}
